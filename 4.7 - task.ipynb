{
 "cells": [
  {
   "cell_type": "markdown",
   "id": "785092e9",
   "metadata": {},
   "source": [
    "# CareerFoundry 4.7: Deriving New Variables\n",
    "\n",
    "## This script includes the following points:\n",
    "\n",
    "Step 1a. Create “price_label” column.\n",
    "\n",
    "Step 1b. Create \"busiest_day\" column.\n",
    "\n",
    "Step 2. Update \"busiest day\" column to \"busiest days\" to identify order day of the week as \"Busiest days,\" \"Slowest days,\" or \"Regularly busy.\"\n",
    "\n",
    "Step 3. Check values of new \"busiest days\" column for accuracy with observations in markdown format.\n",
    "\n",
    "Step 4. Create new column \"busiest_period_of_day\" to identify time periods “Most orders,” “Average orders,” and “Fewest orders.”\n",
    "\n",
    "Step 5. Print frequency of \"busiest_period_of_day\" column.\n",
    "\n",
    "Step 7. Export dataframe as a pickle file to “Prepared Data” folder."
   ]
  },
  {
   "cell_type": "code",
   "execution_count": 2,
   "id": "7859c769",
   "metadata": {},
   "outputs": [],
   "source": [
    "# Import libraries\n",
    "\n",
    "import pandas as pd\n",
    "import numpy as np\n",
    "import os"
   ]
  },
  {
   "cell_type": "code",
   "execution_count": 3,
   "id": "244d6f03",
   "metadata": {},
   "outputs": [
    {
     "data": {
      "text/plain": [
       "'C:\\\\Users\\\\lecce\\\\OneDrive\\\\Achievement 4 - Python'"
      ]
     },
     "execution_count": 3,
     "metadata": {},
     "output_type": "execute_result"
    }
   ],
   "source": [
    "#Turn project folder path into a string\n",
    "\n",
    "path = r'C:\\Users\\lecce\\OneDrive\\Achievement 4 - Python'\n",
    "path"
   ]
  },
  {
   "cell_type": "code",
   "execution_count": 4,
   "id": "2ce4cd49",
   "metadata": {
    "scrolled": true
   },
   "outputs": [],
   "source": [
    "file_path = os.path.join(path, '02 Data', 'prepared data', 'ords_prods_merge.pkl')"
   ]
  },
  {
   "cell_type": "code",
   "execution_count": 5,
   "id": "45cf5287-6be6-4139-bbbe-7792363fa15d",
   "metadata": {},
   "outputs": [
    {
     "name": "stdout",
     "output_type": "stream",
     "text": [
      "Full file path: C:\\Users\\lecce\\OneDrive\\Achievement 4 - Python\\02 Data\\prepared data\\ords_prods_merge.pkl\n"
     ]
    }
   ],
   "source": [
    "# Print the path to ensure it's correct\n",
    "print(\"Full file path:\", file_path)"
   ]
  },
  {
   "cell_type": "markdown",
   "id": "d71fb3f5",
   "metadata": {},
   "source": [
    "## Step 1a. Create \"price_label\" column."
   ]
  },
  {
   "cell_type": "code",
   "execution_count": 7,
   "id": "57fb7ca7",
   "metadata": {},
   "outputs": [
    {
     "ename": "NameError",
     "evalue": "name 'ords_prods_merge' is not defined",
     "output_type": "error",
     "traceback": [
      "\u001b[1;31m---------------------------------------------------------------------------\u001b[0m",
      "\u001b[1;31mNameError\u001b[0m                                 Traceback (most recent call last)",
      "Cell \u001b[1;32mIn[7], line 1\u001b[0m\n\u001b[1;32m----> 1\u001b[0m df \u001b[38;5;241m=\u001b[39m ords_prods_merge\u001b[38;5;241m.\u001b[39mpkl[:\u001b[38;5;241m1000000\u001b[39m]\n",
      "\u001b[1;31mNameError\u001b[0m: name 'ords_prods_merge' is not defined"
     ]
    }
   ],
   "source": [
    "df = ords_prods_merge.pkl[:1000000]"
   ]
  },
  {
   "cell_type": "code",
   "execution_count": 24,
   "id": "c7681900",
   "metadata": {},
   "outputs": [],
   "source": [
    "# Define a function for price labels\n",
    "\n",
    "def price_label(row):\n",
    "\n",
    "  if row['prices'] <= 5:\n",
    "    return 'Low-range product'\n",
    "  elif (row['prices'] > 5) and (row['prices'] <= 15):\n",
    "    return 'Mid-range product'\n",
    "  elif row['prices'] > 15:\n",
    "    return 'High range'\n",
    "  else: return 'Not enough data'"
   ]
  },
  {
   "cell_type": "code",
   "execution_count": 26,
   "id": "b7837e62",
   "metadata": {},
   "outputs": [
    {
     "ename": "NameError",
     "evalue": "name 'df' is not defined",
     "output_type": "error",
     "traceback": [
      "\u001b[1;31m---------------------------------------------------------------------------\u001b[0m",
      "\u001b[1;31mNameError\u001b[0m                                 Traceback (most recent call last)",
      "Cell \u001b[1;32mIn[26], line 3\u001b[0m\n\u001b[0;32m      1\u001b[0m \u001b[38;5;66;03m# Apply price range function. Note to self: Python can technically execute this, but it will suggest the loc() method instead.\u001b[39;00m\n\u001b[1;32m----> 3\u001b[0m df[\u001b[38;5;124m'\u001b[39m\u001b[38;5;124mprice_range\u001b[39m\u001b[38;5;124m'\u001b[39m] \u001b[38;5;241m=\u001b[39m df\u001b[38;5;241m.\u001b[39mapply(price_label, axis\u001b[38;5;241m=\u001b[39m\u001b[38;5;241m1\u001b[39m)\n",
      "\u001b[1;31mNameError\u001b[0m: name 'df' is not defined"
     ]
    }
   ],
   "source": [
    "# Apply price range function. Note to self: Python can technically execute this, but it will suggest the loc() method instead.\n",
    "\n",
    "df['price_range'] = df.apply(price_label, axis=1)"
   ]
  },
  {
   "cell_type": "code",
   "execution_count": null,
   "id": "d056fce4",
   "metadata": {},
   "outputs": [],
   "source": [
    "df['price_range'].value_counts(dropna = False)"
   ]
  },
  {
   "cell_type": "code",
   "execution_count": null,
   "id": "3e0625fb",
   "metadata": {},
   "outputs": [],
   "source": [
    "# Find most expensive product.\n",
    "\n",
    "df['prices'].max()"
   ]
  },
  {
   "cell_type": "code",
   "execution_count": null,
   "id": "ab79bc83",
   "metadata": {},
   "outputs": [],
   "source": [
    "# Use loc() method on df subset to apply price range function.\n",
    "\n",
    "df.loc[df['prices'] > 15, 'price_range_loc'] = 'High-range product'"
   ]
  },
  {
   "cell_type": "code",
   "execution_count": null,
   "id": "bca3cf78",
   "metadata": {},
   "outputs": [],
   "source": [
    "df.loc[(df['prices'] <= 15) & (df['prices'] > 5), 'price_range_loc'] = 'Mid-range product'"
   ]
  },
  {
   "cell_type": "code",
   "execution_count": null,
   "id": "02bc4f93",
   "metadata": {},
   "outputs": [],
   "source": [
    "df.loc[df['prices'] <= 5, 'price_range_loc'] = 'Low-range product'"
   ]
  },
  {
   "cell_type": "code",
   "execution_count": null,
   "id": "a956f2e8",
   "metadata": {},
   "outputs": [],
   "source": [
    "df['price_range_loc'].value_counts(dropna = False)"
   ]
  },
  {
   "cell_type": "code",
   "execution_count": null,
   "id": "1ea1525b",
   "metadata": {},
   "outputs": [],
   "source": [
    "# Use loc() method on entire ords_prods_merge dataframe to apply price range function.\n",
    "\n",
    "df_ords_prods_merge.loc[df_ords_prods_merge['prices'] > 15, 'price_range_loc'] = 'High-range product'"
   ]
  },
  {
   "cell_type": "code",
   "execution_count": null,
   "id": "5cebe9b5",
   "metadata": {},
   "outputs": [],
   "source": [
    "df_ords_prods_merge.loc[(df_ords_prods_merge['prices'] <= 15) & (df_ords_prods_merge['prices'] > 5), 'price_range_loc'] = 'Mid-range product'"
   ]
  },
  {
   "cell_type": "code",
   "execution_count": null,
   "id": "84e1600f",
   "metadata": {},
   "outputs": [],
   "source": [
    "df_ords_prods_merge.loc[df_ords_prods_merge['prices'] <= 5, 'price_range_loc'] = 'Low-range product'"
   ]
  },
  {
   "cell_type": "code",
   "execution_count": null,
   "id": "fc9338d2",
   "metadata": {},
   "outputs": [],
   "source": [
    "df_ords_prods_merge['price_range_loc'].value_counts(dropna = False)"
   ]
  },
  {
   "cell_type": "markdown",
   "id": "0d730ecf",
   "metadata": {},
   "source": [
    "## Step 1b. Create \"busiest_day\" column."
   ]
  },
  {
   "cell_type": "code",
   "execution_count": null,
   "id": "114b24d2",
   "metadata": {},
   "outputs": [],
   "source": [
    "# Change \"order_dow\" column name to \"order_day_of_week.\"\n",
    "\n",
    "df_ords_prods_merge.rename(columns = {'order_dow' : 'orders_day_of_week'}, inplace = True)"
   ]
  },
  {
   "cell_type": "code",
   "execution_count": null,
   "id": "ece51576",
   "metadata": {},
   "outputs": [],
   "source": [
    "# Find frequency of orders_day_of_week.\n",
    "\n",
    "df_ords_prods_merge['orders_day_of_week'].value_counts(dropna = False)"
   ]
  },
  {
   "cell_type": "code",
   "execution_count": null,
   "id": "2682173b",
   "metadata": {},
   "outputs": [],
   "source": [
    "# Use for-loop to determine whether orders are on \"busiest day\" (0 = Saturday), \"least busy\" (4 = Wednesday), or \"regularly busy\" (other days of the week).\n",
    "\n",
    "result = []\n",
    "\n",
    "for value in df_ords_prods_merge[\"orders_day_of_week\"]:\n",
    "  if value == 0:\n",
    "    result.append(\"Busiest day\")\n",
    "  elif value == 4:\n",
    "    result.append(\"Least busy\")\n",
    "  else:\n",
    "    result.append(\"Regularly busy\")"
   ]
  },
  {
   "cell_type": "code",
   "execution_count": null,
   "id": "aaa760b3",
   "metadata": {},
   "outputs": [],
   "source": [
    "result"
   ]
  },
  {
   "cell_type": "code",
   "execution_count": null,
   "id": "14b06e60",
   "metadata": {},
   "outputs": [],
   "source": [
    "# Create new column in ords_prods_merge to view results in context.\n",
    "\n",
    "df_ords_prods_merge['busiest_day'] = result"
   ]
  },
  {
   "cell_type": "code",
   "execution_count": null,
   "id": "ea242f4f",
   "metadata": {},
   "outputs": [],
   "source": [
    "df_ords_prods_merge['busiest_day'].value_counts(dropna = False)"
   ]
  },
  {
   "cell_type": "markdown",
   "id": "4c86a034",
   "metadata": {},
   "source": [
    "## Step 2. Update \"busiest day\" column to \"busiest days\" to identify order day of the week as \"Busiest days,\" \"Slowest days,\" or \"Regularly busy.\""
   ]
  },
  {
   "cell_type": "code",
   "execution_count": null,
   "id": "84d662f5",
   "metadata": {},
   "outputs": [],
   "source": [
    "# Create column “busiest_days\" from \"orders_day_of_week\" to identify two busiest days (0, 1), slowest days (4, 3), or regularly busy (all other days).\n",
    "\n",
    "result_2 = []\n",
    "\n",
    "for value in df_ords_prods_merge[\"orders_day_of_week\"]:\n",
    "  if value == 0 or value == 1:\n",
    "    result_2.append(\"Busiest days\")\n",
    "  elif value == 4 or value == 3:\n",
    "    result_2.append(\"Slowest days\")\n",
    "  else:\n",
    "    result_2.append(\"Regularly busy\")"
   ]
  },
  {
   "cell_type": "code",
   "execution_count": null,
   "id": "3260cc1b",
   "metadata": {},
   "outputs": [],
   "source": [
    "result_2"
   ]
  },
  {
   "cell_type": "markdown",
   "id": "3b8854e5",
   "metadata": {},
   "source": [
    "## Step 3. Check values of new \"busiest days\" column for accuracy with observations in markdown format."
   ]
  },
  {
   "cell_type": "code",
   "execution_count": null,
   "id": "fae74017",
   "metadata": {},
   "outputs": [],
   "source": [
    "# Create new 'busiest_days' column in ords_prods_merge to view results in context.\n",
    "\n",
    "df_ords_prods_merge['busiest_days'] = result_2"
   ]
  },
  {
   "cell_type": "code",
   "execution_count": null,
   "id": "8c1446c3",
   "metadata": {},
   "outputs": [],
   "source": [
    "df_ords_prods_merge['busiest_days'].value_counts(dropna = False)"
   ]
  },
  {
   "cell_type": "code",
   "execution_count": null,
   "id": "0db34934",
   "metadata": {},
   "outputs": [],
   "source": [
    "# Check output of ords_prods_merge with new \"busiest days\" column.\n",
    "\n",
    "ords_prods_merge.head()"
   ]
  },
  {
   "cell_type": "markdown",
   "id": "0d830871",
   "metadata": {},
   "source": [
    "The total value counts for the ords_prods_merge dataframe is equal to the total sum of all groupings (i.e. \"Regularly busy\" + \"Busiest days\" + \"Slowest days\"). In addition, the listed sums for each label match the sum totals for the qualifying days of the week (e.g. Total \"Busiest days\" = 11864412, which matches orders_day_of_week 0 + 1, or 6204182 + 5660230)."
   ]
  },
  {
   "cell_type": "markdown",
   "id": "ed2aed4e",
   "metadata": {},
   "source": [
    "## Step 4. Create new column \"busiest_period_of_day\" to identify time periods “Most orders,” “Average orders,” and “Fewest orders.”"
   ]
  },
  {
   "cell_type": "code",
   "execution_count": null,
   "id": "75241bd9",
   "metadata": {},
   "outputs": [],
   "source": [
    "# Check value counts in \"order_hour_of_day\" column.\n",
    "\n",
    "df_ords_prods_merge['order_hour_of_day'].value_counts()"
   ]
  },
  {
   "cell_type": "markdown",
   "id": "df01bbce",
   "metadata": {},
   "source": [
    "The value counts listed above will be split into equal thirds for the following labels: \"Most orders\" = 10, 11, 14, 15, 13, 12, 16, and 9; \"Fewest orders\" = 23, 6, 0, 1, 5, 2, 4, and 3; \"Average orders\" = all remaining values in order_hour_of_day."
   ]
  },
  {
   "cell_type": "code",
   "execution_count": null,
   "id": "bba2ea16",
   "metadata": {},
   "outputs": [],
   "source": [
    "# Create for-loop if statement labeling periods of time as “Most orders,” “Average orders,” and “Fewest orders.”\n",
    "\n",
    "result_3 = []\n",
    "\n",
    "for value in df_ords_prods_merge[\"order_hour_of_day\"]:\n",
    "  if value in [10, 11, 14, 15, 13, 12, 16, 9]:\n",
    "    result_3.append(\"Most orders\")\n",
    "  elif value in [23, 6, 0, 1, 5, 2, 4, 3]:\n",
    "    result_3.append(\"Fewest orders\")\n",
    "  else:\n",
    "    result_3.append(\"Average orders\")"
   ]
  },
  {
   "cell_type": "code",
   "execution_count": null,
   "id": "1ad83e3d",
   "metadata": {},
   "outputs": [],
   "source": [
    "result_3"
   ]
  },
  {
   "cell_type": "code",
   "execution_count": null,
   "id": "580e866d",
   "metadata": {},
   "outputs": [],
   "source": [
    "# Create new column \"busiest_period_of_day\" in ords_prods_merge.\n",
    "\n",
    "df_ords_prods_merge['busiest_period_of_day'] = result_3"
   ]
  },
  {
   "cell_type": "markdown",
   "id": "6878aa9e",
   "metadata": {},
   "source": [
    "## Step 5. Print frequency of \"busiest_period_of_day\" column."
   ]
  },
  {
   "cell_type": "code",
   "execution_count": null,
   "id": "24ef5eb7",
   "metadata": {},
   "outputs": [],
   "source": [
    "# Print value counts in \"busiest_period_of_day\" column.\n",
    "\n",
    "df_ords_prods_merge['busiest_period_of_day'].value_counts(dropna = False)"
   ]
  },
  {
   "cell_type": "markdown",
   "id": "57cff506",
   "metadata": {},
   "source": [
    "## Step 7. Export dataframe as a pickle file to “Prepared Data” folder."
   ]
  },
  {
   "cell_type": "code",
   "execution_count": null,
   "id": "02f5e164",
   "metadata": {},
   "outputs": [],
   "source": [
    "df_ords_prods_merge.to_pickle(os.path.join(path, '02 Data', 'Prepared Data', 'orders_products_merged_derived.pkl'))"
   ]
  }
 ],
 "metadata": {
  "kernelspec": {
   "display_name": "Python 3 (ipykernel)",
   "language": "python",
   "name": "python3"
  },
  "language_info": {
   "codemirror_mode": {
    "name": "ipython",
    "version": 3
   },
   "file_extension": ".py",
   "mimetype": "text/x-python",
   "name": "python",
   "nbconvert_exporter": "python",
   "pygments_lexer": "ipython3",
   "version": "3.11.7"
  }
 },
 "nbformat": 4,
 "nbformat_minor": 5
}
