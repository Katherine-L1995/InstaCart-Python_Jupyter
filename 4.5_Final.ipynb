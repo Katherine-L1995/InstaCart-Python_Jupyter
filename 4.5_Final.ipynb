{
 "cells": [
  {
   "cell_type": "code",
   "execution_count": 2,
   "id": "69487fe5-8443-408a-8f73-d10c3e3dae1c",
   "metadata": {},
   "outputs": [],
   "source": [
    "# Import libraries\n",
    "import pandas as pd\n",
    "import numpy as np\n",
    "import os"
   ]
  },
  {
   "cell_type": "code",
   "execution_count": 3,
   "id": "7a93a023-64fa-4d0d-ada4-1753b0f11e9e",
   "metadata": {},
   "outputs": [],
   "source": [
    "df_test = pd.DataFrame()"
   ]
  },
  {
   "cell_type": "code",
   "execution_count": 4,
   "id": "59d3f8ea-486f-484e-8561-dce91946b7e4",
   "metadata": {},
   "outputs": [],
   "source": [
    "df_test['mix'] = ['a', 'b', 1, True]"
   ]
  },
  {
   "cell_type": "code",
   "execution_count": 5,
   "id": "7aaccc4a-de31-45c8-9a54-b1a738714ae7",
   "metadata": {},
   "outputs": [
    {
     "data": {
      "text/html": [
       "<div>\n",
       "<style scoped>\n",
       "    .dataframe tbody tr th:only-of-type {\n",
       "        vertical-align: middle;\n",
       "    }\n",
       "\n",
       "    .dataframe tbody tr th {\n",
       "        vertical-align: top;\n",
       "    }\n",
       "\n",
       "    .dataframe thead th {\n",
       "        text-align: right;\n",
       "    }\n",
       "</style>\n",
       "<table border=\"1\" class=\"dataframe\">\n",
       "  <thead>\n",
       "    <tr style=\"text-align: right;\">\n",
       "      <th></th>\n",
       "      <th>mix</th>\n",
       "    </tr>\n",
       "  </thead>\n",
       "  <tbody>\n",
       "    <tr>\n",
       "      <th>0</th>\n",
       "      <td>a</td>\n",
       "    </tr>\n",
       "    <tr>\n",
       "      <th>1</th>\n",
       "      <td>b</td>\n",
       "    </tr>\n",
       "    <tr>\n",
       "      <th>2</th>\n",
       "      <td>1</td>\n",
       "    </tr>\n",
       "    <tr>\n",
       "      <th>3</th>\n",
       "      <td>True</td>\n",
       "    </tr>\n",
       "  </tbody>\n",
       "</table>\n",
       "</div>"
      ],
      "text/plain": [
       "    mix\n",
       "0     a\n",
       "1     b\n",
       "2     1\n",
       "3  True"
      ]
     },
     "execution_count": 5,
     "metadata": {},
     "output_type": "execute_result"
    }
   ],
   "source": [
    "df_test.head()"
   ]
  },
  {
   "cell_type": "code",
   "execution_count": 6,
   "id": "056cfcfc-a56e-434d-a36a-280ae9a585e4",
   "metadata": {},
   "outputs": [
    {
     "name": "stdout",
     "output_type": "stream",
     "text": [
      "mix\n"
     ]
    },
    {
     "name": "stderr",
     "output_type": "stream",
     "text": [
      "C:\\Users\\lecce\\AppData\\Local\\Temp\\ipykernel_16532\\1786467950.py:2: FutureWarning: DataFrame.applymap has been deprecated. Use DataFrame.map instead.\n",
      "  weird = (df_test[[col]].applymap(type) != df_test[[col]].iloc[0].apply(type)).any(axis = 1)\n"
     ]
    }
   ],
   "source": [
    "for col in df_test.columns.tolist():\n",
    "  weird = (df_test[[col]].applymap(type) != df_test[[col]].iloc[0].apply(type)).any(axis = 1)\n",
    "  if len (df_test[weird]) > 0:\n",
    "    print (col)"
   ]
  },
  {
   "cell_type": "code",
   "execution_count": 7,
   "id": "cc9ef5e4-4eda-4199-8fd2-6bf424b60030",
   "metadata": {},
   "outputs": [],
   "source": [
    "df_test['mix'] = df_test['mix'].astype('str')"
   ]
  },
  {
   "cell_type": "code",
   "execution_count": 8,
   "id": "d9f4c74c-afbc-41a3-b2e4-a9861b135e2c",
   "metadata": {},
   "outputs": [],
   "source": [
    "file_path = r'C:\\Users\\lecce\\OneDrive\\Achievement 4 - Python\\02 Data\\og data'"
   ]
  },
  {
   "cell_type": "code",
   "execution_count": 9,
   "id": "60bad62c-ddf6-4135-ab40-f092f56a34ff",
   "metadata": {},
   "outputs": [],
   "source": [
    "df_prods = pd.read_csv(r'C:\\Users\\lecce\\OneDrive\\Desktop\\Achievement 4 - Python\\02 Data\\og data\\products.csv')"
   ]
  },
  {
   "cell_type": "code",
   "execution_count": 10,
   "id": "cfc02cd7-b76d-4c32-a1ef-6a437cf2dad4",
   "metadata": {},
   "outputs": [
    {
     "data": {
      "text/plain": [
       "product_id        0\n",
       "product_name     16\n",
       "aisle_id          0\n",
       "department_id     0\n",
       "prices            0\n",
       "dtype: int64"
      ]
     },
     "execution_count": 10,
     "metadata": {},
     "output_type": "execute_result"
    }
   ],
   "source": [
    "df_prods.isnull().sum()"
   ]
  },
  {
   "cell_type": "code",
   "execution_count": 11,
   "id": "e411212f-98ba-4220-b3d6-38a14049ac2c",
   "metadata": {},
   "outputs": [],
   "source": [
    "df_nan = df_prods[df_prods['product_name'].isnull() == True]"
   ]
  },
  {
   "cell_type": "code",
   "execution_count": 12,
   "id": "056c90f0-1ba9-474b-8165-d6a642481b90",
   "metadata": {},
   "outputs": [
    {
     "data": {
      "text/html": [
       "<div>\n",
       "<style scoped>\n",
       "    .dataframe tbody tr th:only-of-type {\n",
       "        vertical-align: middle;\n",
       "    }\n",
       "\n",
       "    .dataframe tbody tr th {\n",
       "        vertical-align: top;\n",
       "    }\n",
       "\n",
       "    .dataframe thead th {\n",
       "        text-align: right;\n",
       "    }\n",
       "</style>\n",
       "<table border=\"1\" class=\"dataframe\">\n",
       "  <thead>\n",
       "    <tr style=\"text-align: right;\">\n",
       "      <th></th>\n",
       "      <th>product_id</th>\n",
       "      <th>product_name</th>\n",
       "      <th>aisle_id</th>\n",
       "      <th>department_id</th>\n",
       "      <th>prices</th>\n",
       "    </tr>\n",
       "  </thead>\n",
       "  <tbody>\n",
       "    <tr>\n",
       "      <th>33</th>\n",
       "      <td>34</td>\n",
       "      <td>NaN</td>\n",
       "      <td>121</td>\n",
       "      <td>14</td>\n",
       "      <td>12.2</td>\n",
       "    </tr>\n",
       "    <tr>\n",
       "      <th>68</th>\n",
       "      <td>69</td>\n",
       "      <td>NaN</td>\n",
       "      <td>26</td>\n",
       "      <td>7</td>\n",
       "      <td>11.8</td>\n",
       "    </tr>\n",
       "    <tr>\n",
       "      <th>115</th>\n",
       "      <td>116</td>\n",
       "      <td>NaN</td>\n",
       "      <td>93</td>\n",
       "      <td>3</td>\n",
       "      <td>10.8</td>\n",
       "    </tr>\n",
       "    <tr>\n",
       "      <th>261</th>\n",
       "      <td>262</td>\n",
       "      <td>NaN</td>\n",
       "      <td>110</td>\n",
       "      <td>13</td>\n",
       "      <td>12.1</td>\n",
       "    </tr>\n",
       "    <tr>\n",
       "      <th>525</th>\n",
       "      <td>525</td>\n",
       "      <td>NaN</td>\n",
       "      <td>109</td>\n",
       "      <td>11</td>\n",
       "      <td>1.2</td>\n",
       "    </tr>\n",
       "    <tr>\n",
       "      <th>1511</th>\n",
       "      <td>1511</td>\n",
       "      <td>NaN</td>\n",
       "      <td>84</td>\n",
       "      <td>16</td>\n",
       "      <td>14.3</td>\n",
       "    </tr>\n",
       "    <tr>\n",
       "      <th>1780</th>\n",
       "      <td>1780</td>\n",
       "      <td>NaN</td>\n",
       "      <td>126</td>\n",
       "      <td>11</td>\n",
       "      <td>12.3</td>\n",
       "    </tr>\n",
       "    <tr>\n",
       "      <th>2240</th>\n",
       "      <td>2240</td>\n",
       "      <td>NaN</td>\n",
       "      <td>52</td>\n",
       "      <td>1</td>\n",
       "      <td>14.2</td>\n",
       "    </tr>\n",
       "    <tr>\n",
       "      <th>2586</th>\n",
       "      <td>2586</td>\n",
       "      <td>NaN</td>\n",
       "      <td>104</td>\n",
       "      <td>13</td>\n",
       "      <td>12.4</td>\n",
       "    </tr>\n",
       "    <tr>\n",
       "      <th>3159</th>\n",
       "      <td>3159</td>\n",
       "      <td>NaN</td>\n",
       "      <td>126</td>\n",
       "      <td>11</td>\n",
       "      <td>13.1</td>\n",
       "    </tr>\n",
       "    <tr>\n",
       "      <th>3230</th>\n",
       "      <td>3230</td>\n",
       "      <td>NaN</td>\n",
       "      <td>120</td>\n",
       "      <td>16</td>\n",
       "      <td>14.4</td>\n",
       "    </tr>\n",
       "    <tr>\n",
       "      <th>3736</th>\n",
       "      <td>3736</td>\n",
       "      <td>NaN</td>\n",
       "      <td>41</td>\n",
       "      <td>8</td>\n",
       "      <td>14.8</td>\n",
       "    </tr>\n",
       "    <tr>\n",
       "      <th>4283</th>\n",
       "      <td>4283</td>\n",
       "      <td>NaN</td>\n",
       "      <td>77</td>\n",
       "      <td>7</td>\n",
       "      <td>14.4</td>\n",
       "    </tr>\n",
       "    <tr>\n",
       "      <th>4790</th>\n",
       "      <td>4790</td>\n",
       "      <td>NaN</td>\n",
       "      <td>91</td>\n",
       "      <td>16</td>\n",
       "      <td>14.5</td>\n",
       "    </tr>\n",
       "    <tr>\n",
       "      <th>38187</th>\n",
       "      <td>38183</td>\n",
       "      <td>NaN</td>\n",
       "      <td>39</td>\n",
       "      <td>12</td>\n",
       "      <td>20.9</td>\n",
       "    </tr>\n",
       "    <tr>\n",
       "      <th>40444</th>\n",
       "      <td>40440</td>\n",
       "      <td>NaN</td>\n",
       "      <td>120</td>\n",
       "      <td>16</td>\n",
       "      <td>14.8</td>\n",
       "    </tr>\n",
       "  </tbody>\n",
       "</table>\n",
       "</div>"
      ],
      "text/plain": [
       "       product_id product_name  aisle_id  department_id  prices\n",
       "33             34          NaN       121             14    12.2\n",
       "68             69          NaN        26              7    11.8\n",
       "115           116          NaN        93              3    10.8\n",
       "261           262          NaN       110             13    12.1\n",
       "525           525          NaN       109             11     1.2\n",
       "1511         1511          NaN        84             16    14.3\n",
       "1780         1780          NaN       126             11    12.3\n",
       "2240         2240          NaN        52              1    14.2\n",
       "2586         2586          NaN       104             13    12.4\n",
       "3159         3159          NaN       126             11    13.1\n",
       "3230         3230          NaN       120             16    14.4\n",
       "3736         3736          NaN        41              8    14.8\n",
       "4283         4283          NaN        77              7    14.4\n",
       "4790         4790          NaN        91             16    14.5\n",
       "38187       38183          NaN        39             12    20.9\n",
       "40444       40440          NaN       120             16    14.8"
      ]
     },
     "execution_count": 12,
     "metadata": {},
     "output_type": "execute_result"
    }
   ],
   "source": [
    "df_nan"
   ]
  },
  {
   "cell_type": "code",
   "execution_count": 13,
   "id": "29aefb8d-e39f-45ba-be2f-cc41b75da11d",
   "metadata": {},
   "outputs": [],
   "source": [
    "df_prods.dropna(inplace = True)"
   ]
  },
  {
   "cell_type": "code",
   "execution_count": 14,
   "id": "cf66a698-5b3f-4a3d-8234-469ed16337ed",
   "metadata": {},
   "outputs": [
    {
     "data": {
      "text/plain": [
       "product_id       0\n",
       "product_name     0\n",
       "aisle_id         0\n",
       "department_id    0\n",
       "prices           0\n",
       "dtype: int64"
      ]
     },
     "execution_count": 14,
     "metadata": {},
     "output_type": "execute_result"
    }
   ],
   "source": [
    "df_prods.isnull().sum()"
   ]
  },
  {
   "cell_type": "code",
   "execution_count": 15,
   "id": "0dba4f4c-f519-404f-b9c0-2d461965f61d",
   "metadata": {},
   "outputs": [],
   "source": [
    "df_types = df_prods.dtypes"
   ]
  },
  {
   "cell_type": "code",
   "execution_count": 16,
   "id": "9e8b5e6f-cd72-49b2-991f-9dfcec719f1a",
   "metadata": {},
   "outputs": [],
   "source": [
    "data_types = df_prods.dtypes"
   ]
  },
  {
   "cell_type": "code",
   "execution_count": 17,
   "id": "00b9c619-8634-485e-8f1e-dbeb94b6de1c",
   "metadata": {},
   "outputs": [
    {
     "name": "stdout",
     "output_type": "stream",
     "text": [
      "product_id         int64\n",
      "product_name      object\n",
      "aisle_id           int64\n",
      "department_id      int64\n",
      "prices           float64\n",
      "dtype: object\n"
     ]
    }
   ],
   "source": [
    "print(data_types)"
   ]
  },
  {
   "cell_type": "code",
   "execution_count": 18,
   "id": "846c96ac-792b-4d10-a5f8-964a63c7fbd4",
   "metadata": {},
   "outputs": [
    {
     "name": "stdout",
     "output_type": "stream",
     "text": [
      "Fixed data types:\n",
      "product_id         int64\n",
      "product_name      object\n",
      "aisle_id           int64\n",
      "department_id      int64\n",
      "prices           float64\n",
      "dtype: object\n"
     ]
    }
   ],
   "source": [
    "print(\"Fixed data types:\")\n",
    "print(df_prods.dtypes)"
   ]
  },
  {
   "cell_type": "code",
   "execution_count": 39,
   "id": "27b5550c-4fb4-41e6-baa6-27b6be719828",
   "metadata": {},
   "outputs": [],
   "source": [
    "#df_ords['product_name'] = df_prods['product_name'].astype(str)"
   ]
  },
  {
   "cell_type": "code",
   "execution_count": 41,
   "id": "7bf24ccf-0745-4f88-99e9-ae5a0c0fe667",
   "metadata": {},
   "outputs": [
    {
     "name": "stdout",
     "output_type": "stream",
     "text": [
      "       product_id                                       product_name  \\\n",
      "0               1                         Chocolate Sandwich Cookies   \n",
      "1               2                                   All-Seasons Salt   \n",
      "2               3               Robust Golden Unsweetened Oolong Tea   \n",
      "3               4  Smart Ones Classic Favorites Mini Rigatoni Wit...   \n",
      "4               5                          Green Chile Anytime Sauce   \n",
      "...           ...                                                ...   \n",
      "49688       49684          Vodka, Triple Distilled, Twist of Vanilla   \n",
      "49689       49685                 En Croute Roast Hazelnut Cranberry   \n",
      "49690       49686                                   Artisan Baguette   \n",
      "49691       49687         Smartblend Healthy Metabolism Dry Cat Food   \n",
      "49692       49688                             Fresh Foaming Cleanser   \n",
      "\n",
      "       aisle_id  department_id  prices  \n",
      "0            61             19     5.8  \n",
      "1           104             13     9.3  \n",
      "2            94              7     4.5  \n",
      "3            38              1    10.5  \n",
      "4             5             13     4.3  \n",
      "...         ...            ...     ...  \n",
      "49688       124              5     5.3  \n",
      "49689        42              1     3.1  \n",
      "49690       112              3     7.8  \n",
      "49691        41              8     4.7  \n",
      "49692        73             11    13.5  \n",
      "\n",
      "[49677 rows x 5 columns]\n"
     ]
    }
   ],
   "source": [
    "print(df_prods)"
   ]
  },
  {
   "cell_type": "code",
   "execution_count": 43,
   "id": "d7b6b631-30de-463f-a8b7-d424bb36e403",
   "metadata": {},
   "outputs": [],
   "source": [
    "duplicates_all = df_prods[df_prods.duplicated()]"
   ]
  },
  {
   "cell_type": "code",
   "execution_count": 45,
   "id": "35e8e30b-14a0-44bc-a709-75403c474d8e",
   "metadata": {},
   "outputs": [
    {
     "name": "stdout",
     "output_type": "stream",
     "text": [
      "Duplicate rows based on all columns:\n",
      "       product_id                                       product_name  \\\n",
      "462           462                  Fiber 4g Gummy Dietary Supplement   \n",
      "18459       18458                                         Ranger IPA   \n",
      "26810       26808               Black House Coffee Roasty Stout Beer   \n",
      "35309       35306  Gluten Free Organic Peanut Butter & Chocolate ...   \n",
      "35495       35491                            Adore Forever Body Wash   \n",
      "\n",
      "       aisle_id  department_id  prices  \n",
      "462          70             11     4.8  \n",
      "18459        27              5     9.2  \n",
      "26810        27              5    13.4  \n",
      "35309       121             14     6.8  \n",
      "35495       127             11     9.9  \n"
     ]
    }
   ],
   "source": [
    "print(\"Duplicate rows based on all columns:\")\n",
    "print(duplicates_all)"
   ]
  },
  {
   "cell_type": "code",
   "execution_count": 47,
   "id": "120978d4-7078-4bfb-88e1-8a002a22f6f8",
   "metadata": {},
   "outputs": [],
   "source": [
    "duplicates_specific = df_prods[df_prods.duplicated(subset=['product_name'], keep=False)]"
   ]
  },
  {
   "cell_type": "code",
   "execution_count": 49,
   "id": "f5849fb3-d622-4f98-9b6f-1d40d8917914",
   "metadata": {},
   "outputs": [
    {
     "name": "stdout",
     "output_type": "stream",
     "text": [
      "Duplicate rows based on specific columns (product_name):\n",
      "       product_id                                       product_name  \\\n",
      "461           462                  Fiber 4g Gummy Dietary Supplement   \n",
      "462           462                  Fiber 4g Gummy Dietary Supplement   \n",
      "18458       18458                                         Ranger IPA   \n",
      "18459       18458                                         Ranger IPA   \n",
      "26809       26808               Black House Coffee Roasty Stout Beer   \n",
      "26810       26808               Black House Coffee Roasty Stout Beer   \n",
      "35308       35306  Gluten Free Organic Peanut Butter & Chocolate ...   \n",
      "35309       35306  Gluten Free Organic Peanut Butter & Chocolate ...   \n",
      "35494       35491                            Adore Forever Body Wash   \n",
      "35495       35491                            Adore Forever Body Wash   \n",
      "\n",
      "       aisle_id  department_id  prices  \n",
      "461          70             11     4.8  \n",
      "462          70             11     4.8  \n",
      "18458        27              5     9.2  \n",
      "18459        27              5     9.2  \n",
      "26809        27              5    13.4  \n",
      "26810        27              5    13.4  \n",
      "35308       121             14     6.8  \n",
      "35309       121             14     6.8  \n",
      "35494       127             11     9.9  \n",
      "35495       127             11     9.9  \n"
     ]
    }
   ],
   "source": [
    "print(\"Duplicate rows based on specific columns (product_name):\")\n",
    "print(duplicates_specific)"
   ]
  },
  {
   "cell_type": "code",
   "execution_count": 51,
   "id": "0ec18b61-07f3-40c6-af38-f7203617414f",
   "metadata": {},
   "outputs": [],
   "source": [
    "df_prods.drop_duplicates(inplace=True)"
   ]
  },
  {
   "cell_type": "code",
   "execution_count": 53,
   "id": "f76e85e4-206d-418d-94c5-ef168db8e379",
   "metadata": {},
   "outputs": [
    {
     "name": "stdout",
     "output_type": "stream",
     "text": [
      "DataFrame shape after dropping duplicates: (49672, 5)\n"
     ]
    }
   ],
   "source": [
    "print(\"DataFrame shape after dropping duplicates:\", df_prods.shape)"
   ]
  },
  {
   "cell_type": "code",
   "execution_count": 55,
   "id": "10aed8be-0c97-4b36-b968-91f00eba0c07",
   "metadata": {},
   "outputs": [
    {
     "name": "stdout",
     "output_type": "stream",
     "text": [
      "Number of duplicate rows: 0\n"
     ]
    }
   ],
   "source": [
    "duplicate_count = df_prods.duplicated().sum()\n",
    "print(\"Number of duplicate rows:\", duplicate_count)"
   ]
  },
  {
   "cell_type": "code",
   "execution_count": 57,
   "id": "dcd683ee-2692-4858-9433-7290804ab33f",
   "metadata": {},
   "outputs": [],
   "source": [
    "file_path = r'C:\\Users\\lecce\\OneDrive\\Achievement 4 - Python\\02 Data\\og data'"
   ]
  },
  {
   "cell_type": "code",
   "execution_count": 59,
   "id": "4fadfe10-2617-452e-aa59-869febba2668",
   "metadata": {},
   "outputs": [],
   "source": [
    "df_ords = pd.read_csv(r'C:\\Users\\lecce\\OneDrive\\Achievement 4 - Python\\02 Data\\prepared data\\orders_wrangled.csv')"
   ]
  },
  {
   "cell_type": "code",
   "execution_count": 60,
   "id": "04c2098d-196d-43b8-abac-3994e02ab6d5",
   "metadata": {},
   "outputs": [
    {
     "name": "stdout",
     "output_type": "stream",
     "text": [
      "   Unnamed: 0  order_id  user_id eval_set  order_number  orders_day_of_week  \\\n",
      "0           0   2539329        1    prior             1                   2   \n",
      "1           1   2398795        1    prior             2                   3   \n",
      "2           2    473747        1    prior             3                   3   \n",
      "3           3   2254736        1    prior             4                   4   \n",
      "4           4    431534        1    prior             5                   4   \n",
      "\n",
      "   order_hour_of_day  days_since_prior_order  orders_hour_of_day  \n",
      "0                  8                     NaN                   8  \n",
      "1                  7                    15.0                   7  \n",
      "2                 12                    21.0                  12  \n",
      "3                  7                    29.0                   7  \n",
      "4                 15                    28.0                  15  \n"
     ]
    }
   ],
   "source": [
    "\n",
    "print(df_ords.head())  # Display the first few rows to verify data"
   ]
  },
  {
   "cell_type": "code",
   "execution_count": 63,
   "id": "bdaf38d2-5b07-46f1-990a-957d92118e41",
   "metadata": {},
   "outputs": [
    {
     "data": {
      "text/plain": [
       "Unnamed: 0                     0\n",
       "order_id                       0\n",
       "user_id                        0\n",
       "eval_set                       0\n",
       "order_number                   0\n",
       "orders_day_of_week             0\n",
       "order_hour_of_day              0\n",
       "days_since_prior_order    206209\n",
       "orders_hour_of_day             0\n",
       "dtype: int64"
      ]
     },
     "execution_count": 63,
     "metadata": {},
     "output_type": "execute_result"
    }
   ],
   "source": [
    "df_ords.isnull().sum()"
   ]
  },
  {
   "cell_type": "code",
   "execution_count": 65,
   "id": "4fcce8f0-bc22-4b29-ae3e-c9b8c402ada3",
   "metadata": {},
   "outputs": [],
   "source": [
    "data_types = df_ords.dtypes"
   ]
  },
  {
   "cell_type": "code",
   "execution_count": 67,
   "id": "be949386-8874-4180-8958-5b91ac995a33",
   "metadata": {},
   "outputs": [
    {
     "name": "stdout",
     "output_type": "stream",
     "text": [
      "Unnamed: 0                  int64\n",
      "order_id                    int64\n",
      "user_id                     int64\n",
      "eval_set                   object\n",
      "order_number                int64\n",
      "orders_day_of_week          int64\n",
      "order_hour_of_day           int64\n",
      "days_since_prior_order    float64\n",
      "orders_hour_of_day          int64\n",
      "dtype: object\n"
     ]
    }
   ],
   "source": [
    "print(data_types)"
   ]
  },
  {
   "cell_type": "code",
   "execution_count": 69,
   "id": "e9119228-0322-47c4-85ce-c3b7996fbe6f",
   "metadata": {},
   "outputs": [
    {
     "name": "stdout",
     "output_type": "stream",
     "text": [
      "Columns with mixed types:\n",
      "eval_set    object\n",
      "dtype: object\n"
     ]
    }
   ],
   "source": [
    "mixed_type_columns = data_types[data_types == 'object']\n",
    "\n",
    "if not mixed_type_columns.empty:\n",
    "    print(\"Columns with mixed types:\")\n",
    "    print(mixed_type_columns)\n",
    "else:\n",
    "    print(\"No columns with mixed types found.\")"
   ]
  },
  {
   "cell_type": "code",
   "execution_count": 71,
   "id": "bccb2e86-fc86-42b4-a491-78700e97d1ae",
   "metadata": {},
   "outputs": [],
   "source": [
    "df_ords['eval_set'] = df_ords['eval_set'].astype(str)"
   ]
  },
  {
   "cell_type": "code",
   "execution_count": 73,
   "id": "d2eac1cd-2707-4879-aa0d-09dc99dd1b11",
   "metadata": {},
   "outputs": [
    {
     "name": "stdout",
     "output_type": "stream",
     "text": [
      "Fixed data types:\n",
      "Unnamed: 0                  int64\n",
      "order_id                    int64\n",
      "user_id                     int64\n",
      "eval_set                   object\n",
      "order_number                int64\n",
      "orders_day_of_week          int64\n",
      "order_hour_of_day           int64\n",
      "days_since_prior_order    float64\n",
      "orders_hour_of_day          int64\n",
      "dtype: object\n"
     ]
    }
   ],
   "source": [
    "print(\"Fixed data types:\")\n",
    "print(df_ords.dtypes)"
   ]
  },
  {
   "cell_type": "code",
   "execution_count": 75,
   "id": "d21df94a-e940-41bf-87ba-c0a03dd5f69b",
   "metadata": {},
   "outputs": [],
   "source": [
    "df_ords['eval_set'] = df_ords['eval_set'].astype(str)"
   ]
  },
  {
   "cell_type": "code",
   "execution_count": 77,
   "id": "00191acb-027d-4802-9a79-1cc6192fd698",
   "metadata": {},
   "outputs": [
    {
     "name": "stdout",
     "output_type": "stream",
     "text": [
      "Fixed data types:\n",
      "Unnamed: 0                  int64\n",
      "order_id                    int64\n",
      "user_id                     int64\n",
      "eval_set                   object\n",
      "order_number                int64\n",
      "orders_day_of_week          int64\n",
      "order_hour_of_day           int64\n",
      "days_since_prior_order    float64\n",
      "orders_hour_of_day          int64\n",
      "dtype: object\n"
     ]
    }
   ],
   "source": [
    "print(\"Fixed data types:\")\n",
    "print(df_ords.dtypes)"
   ]
  },
  {
   "cell_type": "code",
   "execution_count": 79,
   "id": "5a0b2835-d997-48df-8f94-e1d45ec17e71",
   "metadata": {},
   "outputs": [
    {
     "name": "stdout",
     "output_type": "stream",
     "text": [
      "Unique values in 'eval_set':\n",
      "['prior' 'train' 'test']\n"
     ]
    }
   ],
   "source": [
    "unique_values = df_ords['eval_set'].unique()\n",
    "print(\"Unique values in 'eval_set':\")\n",
    "print(unique_values)"
   ]
  },
  {
   "cell_type": "code",
   "execution_count": 81,
   "id": "0ac3950c-2f93-42f4-9ce7-a24cd65fd74b",
   "metadata": {},
   "outputs": [],
   "source": [
    "df_ords['eval_set'] = pd.Categorical(df_ords['eval_set'], categories=['prior', 'train', 'test'], ordered=False)"
   ]
  },
  {
   "cell_type": "code",
   "execution_count": 83,
   "id": "336d2c7c-59c8-4025-b91b-3a7581d21ed2",
   "metadata": {},
   "outputs": [
    {
     "name": "stdout",
     "output_type": "stream",
     "text": [
      "Fixed data types:\n",
      "Unnamed: 0                   int64\n",
      "order_id                     int64\n",
      "user_id                      int64\n",
      "eval_set                  category\n",
      "order_number                 int64\n",
      "orders_day_of_week           int64\n",
      "order_hour_of_day            int64\n",
      "days_since_prior_order     float64\n",
      "orders_hour_of_day           int64\n",
      "dtype: object\n"
     ]
    }
   ],
   "source": [
    "print(\"Fixed data types:\")\n",
    "print(df_ords.dtypes)"
   ]
  },
  {
   "cell_type": "code",
   "execution_count": 85,
   "id": "7ef6d6ae-0ce5-4124-87f0-c89371fa0970",
   "metadata": {},
   "outputs": [
    {
     "data": {
      "text/plain": [
       "Unnamed: 0                     0\n",
       "order_id                       0\n",
       "user_id                        0\n",
       "eval_set                       0\n",
       "order_number                   0\n",
       "orders_day_of_week             0\n",
       "order_hour_of_day              0\n",
       "days_since_prior_order    206209\n",
       "orders_hour_of_day             0\n",
       "dtype: int64"
      ]
     },
     "execution_count": 85,
     "metadata": {},
     "output_type": "execute_result"
    }
   ],
   "source": [
    "df_ords.isnull().sum()"
   ]
  },
  {
   "cell_type": "code",
   "execution_count": 87,
   "id": "a6384c45-4edd-4081-abd7-5b157368edcb",
   "metadata": {},
   "outputs": [],
   "source": [
    "df_nan = df_ords[df_ords['order_id'].isnull() == True]"
   ]
  },
  {
   "cell_type": "code",
   "execution_count": 89,
   "id": "d7c97a9e-a167-40ee-aeec-f126ae0c65ea",
   "metadata": {},
   "outputs": [
    {
     "data": {
      "text/html": [
       "<div>\n",
       "<style scoped>\n",
       "    .dataframe tbody tr th:only-of-type {\n",
       "        vertical-align: middle;\n",
       "    }\n",
       "\n",
       "    .dataframe tbody tr th {\n",
       "        vertical-align: top;\n",
       "    }\n",
       "\n",
       "    .dataframe thead th {\n",
       "        text-align: right;\n",
       "    }\n",
       "</style>\n",
       "<table border=\"1\" class=\"dataframe\">\n",
       "  <thead>\n",
       "    <tr style=\"text-align: right;\">\n",
       "      <th></th>\n",
       "      <th>Unnamed: 0</th>\n",
       "      <th>order_id</th>\n",
       "      <th>user_id</th>\n",
       "      <th>eval_set</th>\n",
       "      <th>order_number</th>\n",
       "      <th>orders_day_of_week</th>\n",
       "      <th>order_hour_of_day</th>\n",
       "      <th>days_since_prior_order</th>\n",
       "      <th>orders_hour_of_day</th>\n",
       "    </tr>\n",
       "  </thead>\n",
       "  <tbody>\n",
       "  </tbody>\n",
       "</table>\n",
       "</div>"
      ],
      "text/plain": [
       "Empty DataFrame\n",
       "Columns: [Unnamed: 0, order_id, user_id, eval_set, order_number, orders_day_of_week, order_hour_of_day, days_since_prior_order, orders_hour_of_day]\n",
       "Index: []"
      ]
     },
     "execution_count": 89,
     "metadata": {},
     "output_type": "execute_result"
    }
   ],
   "source": [
    "df_nan"
   ]
  },
  {
   "cell_type": "code",
   "execution_count": 93,
   "id": "73d9f372-dd21-45e3-8186-cb4c9479e3f1",
   "metadata": {},
   "outputs": [],
   "source": [
    "df_nan = df_ords[df_ords['user_id'].isnull() == True]"
   ]
  },
  {
   "cell_type": "code",
   "execution_count": 95,
   "id": "e248a916-1f42-4ead-8260-fb1520938b0f",
   "metadata": {},
   "outputs": [
    {
     "data": {
      "text/html": [
       "<div>\n",
       "<style scoped>\n",
       "    .dataframe tbody tr th:only-of-type {\n",
       "        vertical-align: middle;\n",
       "    }\n",
       "\n",
       "    .dataframe tbody tr th {\n",
       "        vertical-align: top;\n",
       "    }\n",
       "\n",
       "    .dataframe thead th {\n",
       "        text-align: right;\n",
       "    }\n",
       "</style>\n",
       "<table border=\"1\" class=\"dataframe\">\n",
       "  <thead>\n",
       "    <tr style=\"text-align: right;\">\n",
       "      <th></th>\n",
       "      <th>Unnamed: 0</th>\n",
       "      <th>order_id</th>\n",
       "      <th>user_id</th>\n",
       "      <th>eval_set</th>\n",
       "      <th>order_number</th>\n",
       "      <th>orders_day_of_week</th>\n",
       "      <th>order_hour_of_day</th>\n",
       "      <th>days_since_prior_order</th>\n",
       "      <th>orders_hour_of_day</th>\n",
       "    </tr>\n",
       "  </thead>\n",
       "  <tbody>\n",
       "  </tbody>\n",
       "</table>\n",
       "</div>"
      ],
      "text/plain": [
       "Empty DataFrame\n",
       "Columns: [Unnamed: 0, order_id, user_id, eval_set, order_number, orders_day_of_week, order_hour_of_day, days_since_prior_order, orders_hour_of_day]\n",
       "Index: []"
      ]
     },
     "execution_count": 95,
     "metadata": {},
     "output_type": "execute_result"
    }
   ],
   "source": [
    "df_nan"
   ]
  },
  {
   "cell_type": "code",
   "execution_count": 97,
   "id": "539cdd27-e0f4-4d58-a53c-9a549239caf5",
   "metadata": {},
   "outputs": [
    {
     "name": "stdout",
     "output_type": "stream",
     "text": [
      "Number of missing user_ids: 0\n",
      "No rows with missing user_id found.\n"
     ]
    }
   ],
   "source": [
    "missing_user_ids = df_ords['user_id'].isnull().sum()\n",
    "print(\"Number of missing user_ids:\", missing_user_ids)\n",
    "\n",
    "# Check if any rows have missing 'user_id'\n",
    "if missing_user_ids > 0:\n",
    "    df_nan = df_ords[df_ords['user_id'].isnull()]\n",
    "    print(\"DataFrame 'df_nan' containing rows with missing user_id:\")\n",
    "    print(df_nan)\n",
    "else:\n",
    "    print(\"No rows with missing user_id found.\")"
   ]
  },
  {
   "cell_type": "code",
   "execution_count": 99,
   "id": "d22575c6-501b-46be-bc35-4d0557b42337",
   "metadata": {},
   "outputs": [],
   "source": [
    "df_dups = df_ords[df_ords.duplicated()]"
   ]
  },
  {
   "cell_type": "code",
   "execution_count": 100,
   "id": "bf2e7520-440c-4812-acaa-4b2fdf554f34",
   "metadata": {},
   "outputs": [
    {
     "data": {
      "text/html": [
       "<div>\n",
       "<style scoped>\n",
       "    .dataframe tbody tr th:only-of-type {\n",
       "        vertical-align: middle;\n",
       "    }\n",
       "\n",
       "    .dataframe tbody tr th {\n",
       "        vertical-align: top;\n",
       "    }\n",
       "\n",
       "    .dataframe thead th {\n",
       "        text-align: right;\n",
       "    }\n",
       "</style>\n",
       "<table border=\"1\" class=\"dataframe\">\n",
       "  <thead>\n",
       "    <tr style=\"text-align: right;\">\n",
       "      <th></th>\n",
       "      <th>Unnamed: 0</th>\n",
       "      <th>order_id</th>\n",
       "      <th>user_id</th>\n",
       "      <th>eval_set</th>\n",
       "      <th>order_number</th>\n",
       "      <th>orders_day_of_week</th>\n",
       "      <th>order_hour_of_day</th>\n",
       "      <th>days_since_prior_order</th>\n",
       "      <th>orders_hour_of_day</th>\n",
       "    </tr>\n",
       "  </thead>\n",
       "  <tbody>\n",
       "  </tbody>\n",
       "</table>\n",
       "</div>"
      ],
      "text/plain": [
       "Empty DataFrame\n",
       "Columns: [Unnamed: 0, order_id, user_id, eval_set, order_number, orders_day_of_week, order_hour_of_day, days_since_prior_order, orders_hour_of_day]\n",
       "Index: []"
      ]
     },
     "execution_count": 100,
     "metadata": {},
     "output_type": "execute_result"
    }
   ],
   "source": [
    "df_dups"
   ]
  },
  {
   "cell_type": "code",
   "execution_count": 103,
   "id": "a1675ad8-4351-47f6-8cd0-f7dc71cdf655",
   "metadata": {},
   "outputs": [
    {
     "name": "stdout",
     "output_type": "stream",
     "text": [
      "Duplicate rows based on specific columns (order_id and user_id):\n",
      "Empty DataFrame\n",
      "Columns: [Unnamed: 0, order_id, user_id, eval_set, order_number, orders_day_of_week, order_hour_of_day, days_since_prior_order, orders_hour_of_day]\n",
      "Index: []\n"
     ]
    }
   ],
   "source": [
    "# Find duplicates based on specific columns\n",
    "duplicates_specific = df_ords[df_ords.duplicated(subset=['order_id', 'user_id'], keep=False)]\n",
    "\n",
    "# Print the duplicate rows\n",
    "print(\"Duplicate rows based on specific columns (order_id and user_id):\")\n",
    "print(duplicates_specific)"
   ]
  },
  {
   "cell_type": "code",
   "execution_count": 105,
   "id": "50c47a80-09f9-4db6-a20d-10c9402c245d",
   "metadata": {},
   "outputs": [
    {
     "name": "stdout",
     "output_type": "stream",
     "text": [
      "DataFrame shape after dropping duplicates: (3421083, 9)\n"
     ]
    }
   ],
   "source": [
    "# Drop duplicates based on all columns (keeping the first occurrence)\n",
    "df_ords.drop_duplicates(inplace=True)\n",
    "\n",
    "# Verify the shape of the DataFrame after dropping duplicates\n",
    "print(\"DataFrame shape after dropping duplicates:\", df_ords.shape)"
   ]
  },
  {
   "cell_type": "code",
   "execution_count": 106,
   "id": "3d0bf808-7a86-426b-963f-e0cae5c4f93e",
   "metadata": {},
   "outputs": [
    {
     "name": "stdout",
     "output_type": "stream",
     "text": [
      "Number of duplicate rows: 0\n"
     ]
    }
   ],
   "source": [
    "# Count the number of duplicates based on all columns, double checking that there is no duplicates\n",
    "duplicate_count = df_ords.duplicated().sum()\n",
    "print(\"Number of duplicate rows:\", duplicate_count)"
   ]
  },
  {
   "cell_type": "code",
   "execution_count": 109,
   "id": "4ed9878e-d7ef-4b66-8611-bbcde009755e",
   "metadata": {},
   "outputs": [],
   "source": [
    "path = r'C:\\Users\\lecce\\OneDrive\\Achievement 4 - Python\\02 Data\\prepared data'"
   ]
  },
  {
   "cell_type": "code",
   "execution_count": 111,
   "id": "34e38e1a-5595-47ba-94ae-2d2a532fe5fb",
   "metadata": {},
   "outputs": [],
   "source": [
    "df_prods.to_csv(os.path.join(path, 'prods_wrangled.csv'))"
   ]
  },
  {
   "cell_type": "code",
   "execution_count": 113,
   "id": "b566fe43-e28f-4d57-8925-677980526988",
   "metadata": {},
   "outputs": [],
   "source": [
    "df_ords.to_csv(os.path.join(path, '4.5orders_wrangled.csv'))"
   ]
  },
  {
   "cell_type": "code",
   "execution_count": null,
   "id": "7357ac75-f6f2-4184-bddb-518bf84a5906",
   "metadata": {},
   "outputs": [],
   "source": []
  }
 ],
 "metadata": {
  "kernelspec": {
   "display_name": "Python 3 (ipykernel)",
   "language": "python",
   "name": "python3"
  },
  "language_info": {
   "codemirror_mode": {
    "name": "ipython",
    "version": 3
   },
   "file_extension": ".py",
   "mimetype": "text/x-python",
   "name": "python",
   "nbconvert_exporter": "python",
   "pygments_lexer": "ipython3",
   "version": "3.11.7"
  }
 },
 "nbformat": 4,
 "nbformat_minor": 5
}
